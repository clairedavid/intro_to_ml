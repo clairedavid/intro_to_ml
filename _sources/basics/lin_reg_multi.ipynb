{
 "cells": [
  {
   "cell_type": "markdown",
   "metadata": {},
   "source": [
    "# Multivariate Linear Regression\n",
    "\n",
    "A table:\n"
   ]
  },
  {
   "cell_type": "code",
   "execution_count": 19,
   "metadata": {},
   "outputs": [],
   "source": [
    "import numpy as np\n",
    "import pandas as pd\n",
    "import matplotlib.pyplot as plt\n",
    "from myst_nb import glue"
   ]
  },
  {
   "cell_type": "code",
   "execution_count": 28,
   "metadata": {},
   "outputs": [
    {
     "name": "stdout",
     "output_type": "stream",
     "text": [
      "         x_1       x_2          x_3       x_4\n",
      "0  53.844621 -2.236084  2158.276717 -0.035128\n",
      "1  45.108137  1.204087  1935.968922  0.038599\n",
      "2  43.764648 -1.509527  2080.412520 -0.080645\n",
      "3  44.739359 -2.604297  2048.357208 -0.040369\n",
      "4  38.390222 -2.325613  1984.086668  0.243353\n",
      "5  49.152215 -0.600885  1972.311885 -0.034590\n"
     ]
    },
    {
     "data": {
      "text/html": "<div>\n<style scoped>\n    .dataframe tbody tr th:only-of-type {\n        vertical-align: middle;\n    }\n\n    .dataframe tbody tr th {\n        vertical-align: top;\n    }\n\n    .dataframe thead th {\n        text-align: right;\n    }\n</style>\n<table border=\"1\" class=\"dataframe\">\n  <thead>\n    <tr style=\"text-align: right;\">\n      <th></th>\n      <th>x_1</th>\n      <th>x_2</th>\n      <th>x_3</th>\n      <th>x_4</th>\n    </tr>\n  </thead>\n  <tbody>\n    <tr>\n      <th>0</th>\n      <td>53.844621</td>\n      <td>-2.236084</td>\n      <td>2158.276717</td>\n      <td>-0.035128</td>\n    </tr>\n    <tr>\n      <th>1</th>\n      <td>45.108137</td>\n      <td>1.204087</td>\n      <td>1935.968922</td>\n      <td>0.038599</td>\n    </tr>\n    <tr>\n      <th>2</th>\n      <td>43.764648</td>\n      <td>-1.509527</td>\n      <td>2080.412520</td>\n      <td>-0.080645</td>\n    </tr>\n    <tr>\n      <th>3</th>\n      <td>44.739359</td>\n      <td>-2.604297</td>\n      <td>2048.357208</td>\n      <td>-0.040369</td>\n    </tr>\n    <tr>\n      <th>4</th>\n      <td>38.390222</td>\n      <td>-2.325613</td>\n      <td>1984.086668</td>\n      <td>0.243353</td>\n    </tr>\n    <tr>\n      <th>5</th>\n      <td>49.152215</td>\n      <td>-0.600885</td>\n      <td>1972.311885</td>\n      <td>-0.034590</td>\n    </tr>\n  </tbody>\n</table>\n</div>",
      "text/plain": "         x_1       x_2          x_3       x_4\n0  53.844621 -2.236084  2158.276717 -0.035128\n1  45.108137  1.204087  1935.968922  0.038599\n2  43.764648 -1.509527  2080.412520 -0.080645\n3  44.739359 -2.604297  2048.357208 -0.040369\n4  38.390222 -2.325613  1984.086668  0.243353\n5  49.152215 -0.600885  1972.311885 -0.034590"
     },
     "metadata": {
      "scrapbook": {
       "mime_prefix": "",
       "name": "df_example"
      }
     },
     "output_type": "display_data"
    }
   ],
   "source": [
    "x1 = np.random.normal(50, 5, 6)\n",
    "x2 = np.random.uniform(-3.14, 3.14, 6)\n",
    "x3 = np.random.normal(2000, 100, 6)\n",
    "x4 = np.random.normal(0, 0.1, 6)\n",
    "\n",
    "df = pd.DataFrame(list(zip(x1, x2, x3, x4)), columns = [\"x1\", \"x2\", \"x3\", \"x4\"])\n",
    "\n",
    "print(df)\n",
    "\n",
    "glue(\"df_example\", df)\n",
    "\n"
   ]
  },
  {
   "cell_type": "raw",
   "metadata": {},
   "source": []
  }
 ],
 "metadata": {
  "kernelspec": {
   "display_name": "Python 3.9.10 64-bit",
   "name": "python3"
  },
  "language_info": {
   "codemirror_mode": {
    "name": "ipython",
    "version": 3
   },
   "file_extension": ".py",
   "mimetype": "text/x-python",
   "name": "python",
   "nbconvert_exporter": "python",
   "pygments_lexer": "ipython3",
   "version": "3.9.10"
  },
  "metadata": {
   "interpreter": {
    "hash": "aee8b7b246df8f9039afb4144a1f6fd8d2ca17a180786b69acc140d282b71a49"
   }
  },
  "orig_nbformat": 2
 },
 "nbformat": 4,
 "nbformat_minor": 2
}
